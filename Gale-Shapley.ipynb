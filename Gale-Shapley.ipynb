{
 "cells": [
  {
   "cell_type": "code",
   "execution_count": 1,
   "metadata": {},
   "outputs": [],
   "source": [
    "import numpy as np\n",
    "import pandas as pd\n",
    "from scipy.optimize import linear_sum_assignment\n",
    "from collections import Counter\n",
    "import itertools\n",
    "import copy"
   ]
  },
  {
   "cell_type": "code",
   "execution_count": 2,
   "metadata": {},
   "outputs": [],
   "source": [
    "#100*100 matching market\n",
    "# 示例数据\n",
    "donors_names = ['d' + str(i) for i in range(1, 101)]\n",
    "recipients_names = ['r' + str(i) for i in range(1, 101)]\n",
    "\n",
    "# 创建初始匹配\n",
    "initial_match = list(zip(donors_names, recipients_names))\n",
    "\n",
    "# 加载矩阵数据\n",
    "don_pref_matrix = pd.read_csv('C:\\\\Users\\\\Hongan Li\\\\Desktop\\\\Research Project\\\\Code\\\\final_code\\\\preference matrices\\\\don_pre_100_2.csv', index_col=0)\n",
    "reci_pref_matrix = pd.read_csv('C:\\\\Users\\\\Hongan Li\\\\Desktop\\\\Research Project\\\\Code\\\\final_code\\\\preference matrices\\\\reci_pre_100_2.csv', index_col=0)"
   ]
  },
  {
   "cell_type": "code",
   "execution_count": null,
   "metadata": {},
   "outputs": [],
   "source": [
    "#20*20 matching market\n",
    "\n",
    "# 示例数据\n",
    "donors_names = ['d' + str(i) for i in range(1, 21)]\n",
    "recipients_names = ['r' + str(i) for i in range(1, 21)]\n",
    "\n",
    "# 创建初始匹配\n",
    "initial_match = list(zip(donors_names, recipients_names))\n",
    "\n",
    "# 加载矩阵数据\n",
    "don_pref_matrix = pd.read_csv('C:\\\\Users\\\\Hongan Li\\\\Desktop\\\\Research Project\\\\Code\\\\final_code\\\\preference matrices\\\\don_pre_20_2.csv', index_col=0)\n",
    "reci_pref_matrix = pd.read_csv('C:\\\\Users\\\\Hongan Li\\\\Desktop\\\\Research Project\\\\Code\\\\final_code\\\\preference matrices\\\\reci_pre_20_2.csv', index_col=0)"
   ]
  },
  {
   "cell_type": "code",
   "execution_count": 5,
   "metadata": {},
   "outputs": [],
   "source": [
    "def find_all_instabilities(matching, reci_pre, don_pre):\n",
    "    matching_dict = {donor: recipient for donor, recipient in matching}\n",
    "    instabilities = {}\n",
    "\n",
    "    for donor, recipient in matching_dict.items():\n",
    "        # Index of the recipient in the donor's preference list\n",
    "        matched_recipient_rank = don_pre.loc[donor, recipient]\n",
    "        donor_preferences = don_pre.loc[donor]\n",
    "\n",
    "        # Check all recipients above the matched recipient in donor's preferences\n",
    "        preferred_recipients = donor_preferences[donor_preferences < matched_recipient_rank].index.tolist()\n",
    "\n",
    "        for other_recipient in preferred_recipients:\n",
    "            # Find the other donor matched to the other recipient\n",
    "            other_donor_list = [d for d, r in matching if r == other_recipient]\n",
    "            if other_donor_list:\n",
    "                other_donor = other_donor_list[0]\n",
    "\n",
    "                # If the other recipient prefers this donor over their current match\n",
    "                if reci_pre.loc[other_recipient, donor] < reci_pre.loc[other_recipient, other_donor]:\n",
    "                    donor_preference_score = don_pre.loc[donor, other_recipient]\n",
    "                    recipient_preference_score = reci_pre.loc[other_recipient, donor]\n",
    "                    instabilities[(donor, other_recipient)] = (donor_preference_score, recipient_preference_score)\n",
    "    \n",
    "    return instabilities"
   ]
  },
  {
   "cell_type": "code",
   "execution_count": 3,
   "metadata": {},
   "outputs": [],
   "source": [
    "## Gale-Shapley Algorithm best to recipients:\n",
    "def gale_shapley_1(don_pre, reci_pre):\n",
    "    don_available = {recipient: donors_names[:] for recipient in recipients_names}\n",
    "    waiting_list = []\n",
    "    proposals = {}\n",
    "    \n",
    "    while len(waiting_list) < len(recipients_names):\n",
    "        for recipient in recipients_names:\n",
    "            if recipient not in waiting_list:\n",
    "                donor = don_available[recipient]\n",
    "                best_choice = reci_pre.loc[recipient][reci_pre.loc[recipient].index.isin(donor)].idxmin()\n",
    "                proposals[(recipient, best_choice)] = (reci_pre.loc[recipient][best_choice], don_pre.loc[best_choice][recipient])\n",
    "        \n",
    "        overlays = Counter([key[1] for key in proposals.keys()])\n",
    "        \n",
    "        for donor in overlays.keys():\n",
    "            if overlays[donor] > 1:\n",
    "                pairs_to_drop = sorted({pair: proposals[pair] for pair in proposals.keys() if donor in pair}.items(), key=lambda x: x[1][1])[1:]\n",
    "                for p_to_drop in pairs_to_drop:\n",
    "                    del proposals[p_to_drop[0]]\n",
    "                    _donor = copy.copy(don_available[p_to_drop[0][0]])\n",
    "                    _donor.remove(p_to_drop[0][1])\n",
    "                    don_available[p_to_drop[0][0]] = _donor\n",
    "        \n",
    "        waiting_list = [recipient[0] for recipient in proposals.keys()]\n",
    "    \n",
    "    return proposals\n",
    "\n",
    "## Gale-Shapley Algorithm reversed:\n",
    "def gale_shapley_2(reci_pre, don_pre):\n",
    "    reci_available = {donor: recipients_names[:] for donor in donors_names}\n",
    "    waiting_list = []\n",
    "    proposals = {}\n",
    "    \n",
    "    while len(waiting_list) < len(donors_names):\n",
    "        for donor in donors_names:\n",
    "            if donor not in waiting_list:\n",
    "                recipient = reci_available[donor]\n",
    "                best_choice = don_pre.loc[donor][don_pre.loc[donor].index.isin(recipient)].idxmin()\n",
    "                proposals[(donor, best_choice)] = (don_pre.loc[donor][best_choice], reci_pre.loc[best_choice][donor])\n",
    "        \n",
    "        overlays = Counter([key[1] for key in proposals.keys()])\n",
    "        \n",
    "        for recipient in overlays.keys():\n",
    "            if overlays[recipient] > 1:\n",
    "                pairs_to_drop = sorted({pair: proposals[pair] for pair in proposals.keys() if recipient in pair}.items(), key=lambda x: x[1][1])[1:]\n",
    "                for p_to_drop in pairs_to_drop:\n",
    "                    del proposals[p_to_drop[0]]\n",
    "                    _recipient = copy.copy(reci_available[p_to_drop[0][0]])\n",
    "                    _recipient.remove(p_to_drop[0][1])\n",
    "                    reci_available[p_to_drop[0][0]] = _recipient\n",
    "        \n",
    "        waiting_list = [donor[0] for donor in proposals.keys()]\n",
    "    \n",
    "    return proposals"
   ]
  },
  {
   "cell_type": "code",
   "execution_count": 8,
   "metadata": {},
   "outputs": [
    {
     "name": "stdout",
     "output_type": "stream",
     "text": [
      "recipients optimal stable matching: {('d99', 'r30'): (0, 17), ('d56', 'r24'): (0, 5), ('d89', 'r78'): (0, 5), ('d48', 'r93'): (0, 32), ('d40', 'r26'): (0, 17), ('d63', 'r74'): (0, 40), ('d34', 'r60'): (0, 0), ('d52', 'r34'): (0, 10), ('d46', 'r55'): (0, 14), ('d51', 'r19'): (0, 50), ('d42', 'r94'): (0, 47), ('d64', 'r91'): (0, 29), ('d67', 'r28'): (0, 8), ('d77', 'r84'): (0, 23), ('d50', 'r33'): (0, 14), ('d54', 'r16'): (0, 7), ('d41', 'r63'): (0, 4), ('d31', 'r86'): (0, 41), ('d49', 'r38'): (0, 18), ('d72', 'r51'): (0, 10), ('d38', 'r81'): (0, 5), ('d12', 'r98'): (0, 25), ('d88', 'r61'): (0, 14), ('d13', 'r73'): (0, 0), ('d22', 'r59'): (0, 10), ('d10', 'r11'): (0, 78), ('d68', 'r90'): (0, 0), ('d25', 'r100'): (1, 6), ('d8', 'r65'): (1, 12), ('d75', 'r45'): (1, 34), ('d55', 'r9'): (1, 33), ('d65', 'r21'): (1, 60), ('d37', 'r72'): (1, 3), ('d66', 'r32'): (1, 35), ('d18', 'r49'): (2, 8), ('d85', 'r12'): (1, 75), ('d1', 'r25'): (2, 29), ('d74', 'r68'): (1, 17), ('d83', 'r41'): (2, 66), ('d91', 'r17'): (1, 31), ('d93', 'r87'): (2, 31), ('d27', 'r4'): (2, 94), ('d71', 'r46'): (1, 5), ('d16', 'r3'): (2, 46), ('d100', 'r35'): (3, 16), ('d59', 'r1'): (3, 18), ('d36', 'r42'): (3, 37), ('d84', 'r29'): (2, 3), ('d62', 'r83'): (1, 18), ('d53', 'r31'): (2, 1), ('d92', 'r37'): (2, 11), ('d58', 'r77'): (1, 2), ('d44', 'r44'): (1, 37), ('d39', 'r2'): (2, 12), ('d95', 'r43'): (4, 3), ('d9', 'r50'): (2, 62), ('d80', 'r62'): (5, 8), ('d79', 'r97'): (4, 48), ('d98', 'r36'): (2, 58), ('d24', 'r13'): (4, 11), ('d4', 'r70'): (4, 11), ('d73', 'r52'): (2, 0), ('d29', 'r10'): (3, 31), ('d6', 'r14'): (5, 70), ('d17', 'r22'): (2, 27), ('d30', 'r15'): (1, 2), ('d81', 'r27'): (6, 35), ('d47', 'r57'): (3, 20), ('d23', 'r85'): (2, 0), ('d60', 'r69'): (2, 31), ('d78', 'r92'): (2, 9), ('d7', 'r79'): (5, 29), ('d61', 'r67'): (2, 44), ('d94', 'r75'): (5, 8), ('d90', 'r39'): (7, 47), ('d33', 'r6'): (4, 0), ('d96', 'r47'): (5, 15), ('d20', 'r23'): (5, 11), ('d28', 'r88'): (7, 76), ('d43', 'r80'): (2, 31), ('d15', 'r5'): (6, 9), ('d45', 'r96'): (1, 42), ('d26', 'r89'): (1, 24), ('d70', 'r56'): (3, 72), ('d97', 'r76'): (2, 12), ('d82', 'r58'): (3, 26), ('d32', 'r20'): (6, 14), ('d87', 'r8'): (4, 6), ('d57', 'r40'): (3, 31), ('d21', 'r71'): (17, 3), ('d19', 'r82'): (8, 36), ('d76', 'r64'): (11, 6), ('d69', 'r7'): (11, 25), ('d2', 'r48'): (7, 32), ('d11', 'r95'): (5, 32), ('d5', 'r54'): (19, 0), ('d14', 'r53'): (3, 68), ('d35', 'r18'): (7, 8), ('d86', 'r99'): (9, 23), ('d3', 'r66'): (13, 63)}\n"
     ]
    }
   ],
   "source": [
    "recipients_names = reci_pref_matrix.index.tolist()\n",
    "donors_names = don_pref_matrix.index.tolist()\n",
    "\n",
    "# Find the optimal match for recipients\n",
    "mu_R = gale_shapley_2(reci_pref_matrix, don_pref_matrix)\n",
    "\n",
    "print(\"recipients optimal stable matching:\", mu_R)"
   ]
  },
  {
   "cell_type": "code",
   "execution_count": 9,
   "metadata": {},
   "outputs": [
    {
     "name": "stdout",
     "output_type": "stream",
     "text": [
      "The matching is stable.\n"
     ]
    }
   ],
   "source": [
    "instabilty = find_all_instabilities(mu_R, reci_pref_matrix, don_pref_matrix)\n",
    "\n",
    "if instabilty:\n",
    "    print('The blocking pairs are:')\n",
    "    for i in instabilty:\n",
    "        print(i)\n",
    "else:\n",
    "    print('The matching is stable.')"
   ]
  }
 ],
 "metadata": {
  "kernelspec": {
   "display_name": "base",
   "language": "python",
   "name": "python3"
  },
  "language_info": {
   "codemirror_mode": {
    "name": "ipython",
    "version": 3
   },
   "file_extension": ".py",
   "mimetype": "text/x-python",
   "name": "python",
   "nbconvert_exporter": "python",
   "pygments_lexer": "ipython3",
   "version": "3.11.7"
  }
 },
 "nbformat": 4,
 "nbformat_minor": 2
}
